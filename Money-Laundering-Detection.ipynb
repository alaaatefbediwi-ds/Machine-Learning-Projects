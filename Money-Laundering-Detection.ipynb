{
 "cells": [
  {
   "cell_type": "code",
   "execution_count": 1,
   "metadata": {},
   "outputs": [],
   "source": [
    "import pandas as pd\n",
    "import matplotlib.pyplot as plt\n",
    "from imblearn.over_sampling import SMOTE\n",
    "from sklearn.preprocessing import OneHotEncoder"
   ]
  },
  {
   "cell_type": "code",
   "execution_count": 2,
   "metadata": {},
   "outputs": [
    {
     "data": {
      "text/html": [
       "<div>\n",
       "<style scoped>\n",
       "    .dataframe tbody tr th:only-of-type {\n",
       "        vertical-align: middle;\n",
       "    }\n",
       "\n",
       "    .dataframe tbody tr th {\n",
       "        vertical-align: top;\n",
       "    }\n",
       "\n",
       "    .dataframe thead th {\n",
       "        text-align: right;\n",
       "    }\n",
       "</style>\n",
       "<table border=\"1\" class=\"dataframe\">\n",
       "  <thead>\n",
       "    <tr style=\"text-align: right;\">\n",
       "      <th></th>\n",
       "      <th>Time</th>\n",
       "      <th>Date</th>\n",
       "      <th>Sender_account</th>\n",
       "      <th>Receiver_account</th>\n",
       "      <th>Amount</th>\n",
       "      <th>Payment_currency</th>\n",
       "      <th>Received_currency</th>\n",
       "      <th>Sender_bank_location</th>\n",
       "      <th>Receiver_bank_location</th>\n",
       "      <th>Payment_type</th>\n",
       "      <th>Is_laundering</th>\n",
       "      <th>Laundering_type</th>\n",
       "    </tr>\n",
       "  </thead>\n",
       "  <tbody>\n",
       "    <tr>\n",
       "      <th>0</th>\n",
       "      <td>10:35:19</td>\n",
       "      <td>2022-10-07</td>\n",
       "      <td>8724731955</td>\n",
       "      <td>2769355426</td>\n",
       "      <td>1459.15</td>\n",
       "      <td>UK pounds</td>\n",
       "      <td>UK pounds</td>\n",
       "      <td>UK</td>\n",
       "      <td>UK</td>\n",
       "      <td>Cash Deposit</td>\n",
       "      <td>0</td>\n",
       "      <td>Normal_Cash_Deposits</td>\n",
       "    </tr>\n",
       "    <tr>\n",
       "      <th>1</th>\n",
       "      <td>10:35:20</td>\n",
       "      <td>2022-10-07</td>\n",
       "      <td>1491989064</td>\n",
       "      <td>8401255335</td>\n",
       "      <td>6019.64</td>\n",
       "      <td>UK pounds</td>\n",
       "      <td>Dirham</td>\n",
       "      <td>UK</td>\n",
       "      <td>UAE</td>\n",
       "      <td>Cross-border</td>\n",
       "      <td>0</td>\n",
       "      <td>Normal_Fan_Out</td>\n",
       "    </tr>\n",
       "    <tr>\n",
       "      <th>2</th>\n",
       "      <td>10:35:20</td>\n",
       "      <td>2022-10-07</td>\n",
       "      <td>287305149</td>\n",
       "      <td>4404767002</td>\n",
       "      <td>14328.44</td>\n",
       "      <td>UK pounds</td>\n",
       "      <td>UK pounds</td>\n",
       "      <td>UK</td>\n",
       "      <td>UK</td>\n",
       "      <td>Cheque</td>\n",
       "      <td>0</td>\n",
       "      <td>Normal_Small_Fan_Out</td>\n",
       "    </tr>\n",
       "    <tr>\n",
       "      <th>3</th>\n",
       "      <td>10:35:21</td>\n",
       "      <td>2022-10-07</td>\n",
       "      <td>5376652437</td>\n",
       "      <td>9600420220</td>\n",
       "      <td>11895.00</td>\n",
       "      <td>UK pounds</td>\n",
       "      <td>UK pounds</td>\n",
       "      <td>UK</td>\n",
       "      <td>UK</td>\n",
       "      <td>ACH</td>\n",
       "      <td>0</td>\n",
       "      <td>Normal_Fan_In</td>\n",
       "    </tr>\n",
       "    <tr>\n",
       "      <th>4</th>\n",
       "      <td>10:35:21</td>\n",
       "      <td>2022-10-07</td>\n",
       "      <td>9614186178</td>\n",
       "      <td>3803336972</td>\n",
       "      <td>115.25</td>\n",
       "      <td>UK pounds</td>\n",
       "      <td>UK pounds</td>\n",
       "      <td>UK</td>\n",
       "      <td>UK</td>\n",
       "      <td>Cash Deposit</td>\n",
       "      <td>0</td>\n",
       "      <td>Normal_Cash_Deposits</td>\n",
       "    </tr>\n",
       "  </tbody>\n",
       "</table>\n",
       "</div>"
      ],
      "text/plain": [
       "       Time        Date  Sender_account  Receiver_account    Amount  \\\n",
       "0  10:35:19  2022-10-07      8724731955        2769355426   1459.15   \n",
       "1  10:35:20  2022-10-07      1491989064        8401255335   6019.64   \n",
       "2  10:35:20  2022-10-07       287305149        4404767002  14328.44   \n",
       "3  10:35:21  2022-10-07      5376652437        9600420220  11895.00   \n",
       "4  10:35:21  2022-10-07      9614186178        3803336972    115.25   \n",
       "\n",
       "  Payment_currency Received_currency Sender_bank_location  \\\n",
       "0        UK pounds         UK pounds                   UK   \n",
       "1        UK pounds            Dirham                   UK   \n",
       "2        UK pounds         UK pounds                   UK   \n",
       "3        UK pounds         UK pounds                   UK   \n",
       "4        UK pounds         UK pounds                   UK   \n",
       "\n",
       "  Receiver_bank_location  Payment_type  Is_laundering       Laundering_type  \n",
       "0                     UK  Cash Deposit              0  Normal_Cash_Deposits  \n",
       "1                    UAE  Cross-border              0        Normal_Fan_Out  \n",
       "2                     UK        Cheque              0  Normal_Small_Fan_Out  \n",
       "3                     UK           ACH              0         Normal_Fan_In  \n",
       "4                     UK  Cash Deposit              0  Normal_Cash_Deposits  "
      ]
     },
     "execution_count": 2,
     "metadata": {},
     "output_type": "execute_result"
    }
   ],
   "source": [
    "# Replace with the correct path to your file on the D drive\n",
    "#file_path = \"E:\\Semester 7\\Stream Processing\\archive\\SAML-D.csv\"\n",
    "\n",
    "# Load the file into a Pandas DataFrame and print it\n",
    "data = pd.read_csv(r\"C:\\\\Users\\\\Arabtech\\\\Downloads\\\\archive\\\\SAML-D.csv\")\n",
    "data.head()"
   ]
  },
  {
   "cell_type": "code",
   "execution_count": 3,
   "metadata": {},
   "outputs": [
    {
     "data": {
      "text/plain": [
       "(9504852, 12)"
      ]
     },
     "execution_count": 3,
     "metadata": {},
     "output_type": "execute_result"
    }
   ],
   "source": [
    "data.shape"
   ]
  },
  {
   "cell_type": "code",
   "execution_count": 4,
   "metadata": {},
   "outputs": [
    {
     "data": {
      "text/plain": [
       "(200000, 12)"
      ]
     },
     "execution_count": 4,
     "metadata": {},
     "output_type": "execute_result"
    }
   ],
   "source": [
    "data = data.sample(n=200000, random_state=1)\n",
    "data.shape"
   ]
  },
  {
   "cell_type": "code",
   "execution_count": 5,
   "metadata": {},
   "outputs": [
    {
     "name": "stdout",
     "output_type": "stream",
     "text": [
      "<class 'pandas.core.frame.DataFrame'>\n",
      "Int64Index: 200000 entries, 9232719 to 9065824\n",
      "Data columns (total 12 columns):\n",
      " #   Column                  Non-Null Count   Dtype  \n",
      "---  ------                  --------------   -----  \n",
      " 0   Time                    200000 non-null  object \n",
      " 1   Date                    200000 non-null  object \n",
      " 2   Sender_account          200000 non-null  int64  \n",
      " 3   Receiver_account        200000 non-null  int64  \n",
      " 4   Amount                  200000 non-null  float64\n",
      " 5   Payment_currency        200000 non-null  object \n",
      " 6   Received_currency       200000 non-null  object \n",
      " 7   Sender_bank_location    200000 non-null  object \n",
      " 8   Receiver_bank_location  200000 non-null  object \n",
      " 9   Payment_type            200000 non-null  object \n",
      " 10  Is_laundering           200000 non-null  int64  \n",
      " 11  Laundering_type         200000 non-null  object \n",
      "dtypes: float64(1), int64(3), object(8)\n",
      "memory usage: 19.8+ MB\n"
     ]
    }
   ],
   "source": [
    "data.info()"
   ]
  },
  {
   "cell_type": "code",
   "execution_count": 6,
   "metadata": {},
   "outputs": [
    {
     "data": {
      "text/plain": [
       "(200000, 12)"
      ]
     },
     "execution_count": 6,
     "metadata": {},
     "output_type": "execute_result"
    }
   ],
   "source": [
    "data = data.drop_duplicates(keep = 'first')\n",
    "data.shape"
   ]
  },
  {
   "cell_type": "code",
   "execution_count": 7,
   "metadata": {},
   "outputs": [
    {
     "name": "stdout",
     "output_type": "stream",
     "text": [
      "Time                      0\n",
      "Date                      0\n",
      "Sender_account            0\n",
      "Receiver_account          0\n",
      "Amount                    0\n",
      "Payment_currency          0\n",
      "Received_currency         0\n",
      "Sender_bank_location      0\n",
      "Receiver_bank_location    0\n",
      "Payment_type              0\n",
      "Is_laundering             0\n",
      "Laundering_type           0\n",
      "dtype: int64\n"
     ]
    }
   ],
   "source": [
    "print(data.isna().sum())"
   ]
  },
  {
   "cell_type": "code",
   "execution_count": 8,
   "metadata": {},
   "outputs": [
    {
     "data": {
      "text/plain": [
       "0    199805\n",
       "1       195\n",
       "Name: Is_laundering, dtype: int64"
      ]
     },
     "execution_count": 8,
     "metadata": {},
     "output_type": "execute_result"
    }
   ],
   "source": [
    "data[\"Is_laundering\"].value_counts()"
   ]
  },
  {
   "cell_type": "code",
   "execution_count": 9,
   "metadata": {},
   "outputs": [
    {
     "name": "stdout",
     "output_type": "stream",
     "text": [
      "Time                      0\n",
      "Date                      0\n",
      "Sender_account            0\n",
      "Receiver_account          0\n",
      "Amount                    0\n",
      "Payment_currency          0\n",
      "Received_currency         0\n",
      "Sender_bank_location      0\n",
      "Receiver_bank_location    0\n",
      "Payment_type              0\n",
      "Is_laundering             0\n",
      "Laundering_type           0\n",
      "dtype: int64\n"
     ]
    }
   ],
   "source": [
    "print((data == '').sum())"
   ]
  },
  {
   "cell_type": "code",
   "execution_count": 10,
   "metadata": {},
   "outputs": [
    {
     "data": {
      "text/plain": [
       "Cheque             42499\n",
       "Credit card        42413\n",
       "Debit card         42405\n",
       "ACH                42146\n",
       "Cross-border       19581\n",
       "Cash Withdrawal     6205\n",
       "Cash Deposit        4751\n",
       "Name: Payment_type, dtype: int64"
      ]
     },
     "execution_count": 10,
     "metadata": {},
     "output_type": "execute_result"
    }
   ],
   "source": [
    "# number of transactions per payment type\n",
    "transactions_per_payment_type = data['Payment_type'].value_counts()\n",
    "transactions_per_payment_type"
   ]
  },
  {
   "cell_type": "code",
   "execution_count": 11,
   "metadata": {},
   "outputs": [
    {
     "data": {
      "text/plain": [
       "Payment_type\n",
       "ACH                26\n",
       "Cash Deposit       31\n",
       "Cash Withdrawal    21\n",
       "Cheque             23\n",
       "Credit card        26\n",
       "Cross-border       49\n",
       "Debit card         19\n",
       "dtype: int64"
      ]
     },
     "execution_count": 11,
     "metadata": {},
     "output_type": "execute_result"
    }
   ],
   "source": [
    "# number of suspicious transactions per payment type\n",
    "laundering_transactions_per_payment_type = data[data['Is_laundering'] == 1].groupby('Payment_type').size()\n",
    "laundering_transactions_per_payment_type"
   ]
  },
  {
   "cell_type": "code",
   "execution_count": 12,
   "metadata": {},
   "outputs": [
    {
     "data": {
      "text/plain": [
       "array(['UK', 'UAE', 'Morocco', 'Japan', 'Germany', 'Italy', 'France',\n",
       "       'Mexico', 'Pakistan', 'Albania', 'Nigeria', 'Switzerland',\n",
       "       'Turkey', 'Netherlands', 'USA', 'India', 'Austria', 'Spain'],\n",
       "      dtype=object)"
      ]
     },
     "execution_count": 12,
     "metadata": {},
     "output_type": "execute_result"
    }
   ],
   "source": [
    "data['Sender_bank_location'].unique()"
   ]
  },
  {
   "cell_type": "code",
   "execution_count": 13,
   "metadata": {},
   "outputs": [
    {
     "name": "stdout",
     "output_type": "stream",
     "text": [
      "Top 2 countries with the most suspicious transactions:\n",
      "UK             178\n",
      "Morocco          4\n",
      "Nigeria          4\n",
      "USA              2\n",
      "India            2\n",
      "Italy            1\n",
      "Germany          1\n",
      "France           1\n",
      "Spain            1\n",
      "Switzerland      1\n",
      "Name: Sender_bank_location, dtype: int64\n"
     ]
    }
   ],
   "source": [
    "# Filter the data for suspicious transactions (Is_laundering == 1)\n",
    "suspicious_transactions = data[data['Is_laundering'] == 1]\n",
    "\n",
    "# Count the number of suspicious transactions per country\n",
    "country_counts = suspicious_transactions['Sender_bank_location'].value_counts()\n",
    "\n",
    "# Get the top 2 countries with the most suspicious transactions\n",
    "top_countries = country_counts.head(10)\n",
    "\n",
    "# Print the results\n",
    "print(\"Top 2 countries with the most suspicious transactions:\")\n",
    "print(top_countries)\n"
   ]
  },
  {
   "cell_type": "code",
   "execution_count": 14,
   "metadata": {},
   "outputs": [
    {
     "name": "stdout",
     "output_type": "stream",
     "text": [
      "Top 2 countries with the most suspicious transactions:\n",
      "UK             152\n",
      "Albania          7\n",
      "Austria          6\n",
      "Pakistan         5\n",
      "Nigeria          4\n",
      "Germany          3\n",
      "UAE              3\n",
      "Mexico           3\n",
      "Italy            3\n",
      "Switzerland      2\n",
      "Name: Receiver_bank_location, dtype: int64\n"
     ]
    }
   ],
   "source": [
    "# Filter the data for suspicious transactions (Is_laundering == 1)\n",
    "suspicious_transactions = data[data['Is_laundering'] == 1]\n",
    "\n",
    "# Count the number of suspicious transactions per country\n",
    "country_counts = suspicious_transactions['Receiver_bank_location'].value_counts()\n",
    "\n",
    "# Get the top 2 countries with the most suspicious transactions\n",
    "top_countries = country_counts.head(10)\n",
    "\n",
    "# Print the results\n",
    "print(\"Top 2 countries with the most suspicious transactions:\")\n",
    "print(top_countries)\n"
   ]
  },
  {
   "cell_type": "code",
   "execution_count": 15,
   "metadata": {},
   "outputs": [
    {
     "name": "stdout",
     "output_type": "stream",
     "text": [
      "Laundering Transactions Stats:\n",
      " max     759709.070000\n",
      "mean     17432.592045\n",
      "min         29.070000\n",
      "Name: Amount, dtype: float64\n",
      "\n",
      "Normal Transactions Stats:\n",
      " max     984679.650000\n",
      "mean      8742.288144\n",
      "min          6.140000\n",
      "Name: Amount, dtype: float64\n"
     ]
    }
   ],
   "source": [
    "laundering_stats = data[data['Is_laundering'] == 1]['Amount'].agg(['max', 'mean', 'min'])\n",
    "\n",
    "normal_stats = data[data['Is_laundering'] == 0]['Amount'].agg(['max', 'mean', 'min'])\n",
    "\n",
    "print(\"Laundering Transactions Stats:\\n\", laundering_stats)\n",
    "print(\"\\nNormal Transactions Stats:\\n\", normal_stats)"
   ]
  },
  {
   "cell_type": "code",
   "execution_count": 16,
   "metadata": {},
   "outputs": [
    {
     "data": {
      "image/png": "[encoded data removed]",
      "text/plain": [
       "<Figure size 1000x600 with 1 Axes>"
      ]
     },
     "metadata": {},
     "output_type": "display_data"
    }
   ],
   "source": [
    "class_distribution = data['Is_laundering'].value_counts()\n",
    "\n",
    "plt.figure(figsize=(10, 6))\n",
    "plt.pie(class_distribution, labels=['Non-Laundering Transactions', 'Suspicious Transactions'], autopct='%1.1f%%', colors=['skyblue', 'lightcoral'])\n",
    "\n",
    "plt.title('Class Distribution')\n",
    "plt.axis('equal')\n",
    "\n",
    "plt.show()"
   ]
  },
  {
   "cell_type": "code",
   "execution_count": 17,
   "metadata": {},
   "outputs": [
    {
     "name": "stdout",
     "output_type": "stream",
     "text": [
      "Initial class distribution:\n",
      "0    0.999025\n",
      "1    0.000975\n",
      "Name: Is_laundering, dtype: float64\n"
     ]
    }
   ],
   "source": [
    "# Check the initial class distribution\n",
    "print(\"Initial class distribution:\")\n",
    "print(data['Is_laundering'].value_counts(normalize=True))"
   ]
  },
  {
   "cell_type": "code",
   "execution_count": 18,
   "metadata": {},
   "outputs": [],
   "source": [
    "# Separate the features and the target\n",
    "X = data.drop(columns=['Is_laundering']) \n",
    "y = data['Is_laundering'] #target"
   ]
  },
  {
   "cell_type": "code",
   "execution_count": 19,
   "metadata": {},
   "outputs": [],
   "source": [
    "# Convert time and date columns to datetime objects\n",
    "X['Time'] = pd.to_datetime(X['Time'], format='%H:%M:%S')\n",
    "X['Date'] = pd.to_datetime(X['Date'], format='%Y-%m-%d')"
   ]
  },
  {
   "cell_type": "code",
   "execution_count": 20,
   "metadata": {},
   "outputs": [],
   "source": [
    "# Extract features from date if needed, here extracting year, month, day\n",
    "X['Year'] = X['Date'].dt.year\n",
    "X['Month'] = X['Date'].dt.month\n",
    "X['Day'] = X['Date'].dt.day"
   ]
  },
  {
   "cell_type": "code",
   "execution_count": 21,
   "metadata": {},
   "outputs": [],
   "source": [
    "# Extract features from date if needed, here extracting year, month, day\n",
    "X['Hour'] = X['Time'].dt.hour\n",
    "X['Minute'] = X['Time'].dt.minute\n",
    "X['Second'] = X['Time'].dt.second"
   ]
  },
  {
   "cell_type": "code",
   "execution_count": 22,
   "metadata": {},
   "outputs": [],
   "source": [
    "# Drop the original Date and Time columns\n",
    "X = X.drop(columns=['Date', 'Time'])"
   ]
  },
  {
   "cell_type": "code",
   "execution_count": 23,
   "metadata": {},
   "outputs": [],
   "source": [
    "# Identify categorical columns for one-hot encoding\n",
    "categorical_columns = [\n",
    "    'Payment_currency', \n",
    "    'Received_currency', \n",
    "    'Sender_bank_location', \n",
    "    'Receiver_bank_location', \n",
    "    'Payment_type', \n",
    "    'Laundering_type'\n",
    "]\n",
    "# One-hot encode categorical variables\n",
    "X = pd.get_dummies(X, columns=categorical_columns)"
   ]
  },
  {
   "cell_type": "code",
   "execution_count": 24,
   "metadata": {},
   "outputs": [],
   "source": [
    "# Define the SMOTE model with the desired sampling strategy to balance data\n",
    "#Is_landuring should have around 30% 1's\n",
    "smote = SMOTE(sampling_strategy=0.3, random_state=42)"
   ]
  },
  {
   "cell_type": "code",
   "execution_count": 25,
   "metadata": {},
   "outputs": [],
   "source": [
    "# Apply SMOTE to the dataset\n",
    "X_resampled, y_resampled = smote.fit_resample(X, y)"
   ]
  },
  {
   "cell_type": "code",
   "execution_count": 26,
   "metadata": {},
   "outputs": [
    {
     "name": "stderr",
     "output_type": "stream",
     "text": [
      "C:\\Users\\Arabtech\\AppData\\Local\\Temp\\ipykernel_17612\\446171337.py:2: PerformanceWarning: DataFrame is highly fragmented.  This is usually the result of calling `frame.insert` many times, which has poor performance.  Consider joining all columns at once using pd.concat(axis=1) instead. To get a de-fragmented frame, use `newframe = frame.copy()`\n",
      "  data['Is_laundering'] = y_resampled\n"
     ]
    }
   ],
   "source": [
    "data = pd.DataFrame(X_resampled, columns=X.columns)\n",
    "data['Is_laundering'] = y_resampled"
   ]
  },
  {
   "cell_type": "code",
   "execution_count": 27,
   "metadata": {},
   "outputs": [
    {
     "name": "stdout",
     "output_type": "stream",
     "text": [
      "New class distribution:\n",
      "0    0.769232\n",
      "1    0.230768\n",
      "Name: Is_laundering, dtype: float64\n"
     ]
    }
   ],
   "source": [
    "# Check the new class distribution\n",
    "print(\"New class distribution:\")\n",
    "print(data['Is_laundering'].value_counts(normalize=True))"
   ]
  },
  {
   "cell_type": "code",
   "execution_count": 28,
   "metadata": {},
   "outputs": [
    {
     "data": {
      "image/png": "[encoded data removed]",
      "text/plain": [
       "<Figure size 1000x600 with 1 Axes>"
      ]
     },
     "metadata": {},
     "output_type": "display_data"
    }
   ],
   "source": [
    "class_distribution = data['Is_laundering'].value_counts()\n",
    "\n",
    "plt.figure(figsize=(10, 6))\n",
    "plt.pie(class_distribution, labels=['Non-Laundering Transactions', 'Suspicious Transactions'], autopct='%1.1f%%', colors=['skyblue', 'lightcoral'])\n",
    "\n",
    "plt.title('Class Distribution')\n",
    "plt.axis('equal')\n",
    "\n",
    "plt.show()"
   ]
  },
  {
   "cell_type": "code",
   "execution_count": 29,
   "metadata": {},
   "outputs": [
    {
     "name": "stdout",
     "output_type": "stream",
     "text": [
      "\n",
      "Data types:\n",
      "Sender_account                         int64\n",
      "Receiver_account                       int64\n",
      "Amount                               float64\n",
      "Year                                   int64\n",
      "Month                                  int64\n",
      "                                      ...   \n",
      "Laundering_type_Single_large           uint8\n",
      "Laundering_type_Smurfing               uint8\n",
      "Laundering_type_Stacked Bipartite      uint8\n",
      "Laundering_type_Structuring            uint8\n",
      "Is_laundering                          int64\n",
      "Length: 106, dtype: object\n"
     ]
    }
   ],
   "source": [
    "print(\"\\nData types:\")\n",
    "print(data.dtypes)"
   ]
  },
  {
   "cell_type": "code",
   "execution_count": 30,
   "metadata": {},
   "outputs": [
    {
     "data": {
      "text/html": [
       "<div>\n",
       "<style scoped>\n",
       "    .dataframe tbody tr th:only-of-type {\n",
       "        vertical-align: middle;\n",
       "    }\n",
       "\n",
       "    .dataframe tbody tr th {\n",
       "        vertical-align: top;\n",
       "    }\n",
       "\n",
       "    .dataframe thead th {\n",
       "        text-align: right;\n",
       "    }\n",
       "</style>\n",
       "<table border=\"1\" class=\"dataframe\">\n",
       "  <thead>\n",
       "    <tr style=\"text-align: right;\">\n",
       "      <th></th>\n",
       "      <th>Sender_account</th>\n",
       "      <th>Receiver_account</th>\n",
       "      <th>Amount</th>\n",
       "      <th>Year</th>\n",
       "      <th>Month</th>\n",
       "      <th>Day</th>\n",
       "      <th>Hour</th>\n",
       "      <th>Minute</th>\n",
       "      <th>Second</th>\n",
       "      <th>Payment_currency_Albanian lek</th>\n",
       "      <th>...</th>\n",
       "      <th>Laundering_type_Normal_Periodical</th>\n",
       "      <th>Laundering_type_Normal_Plus_Mutual</th>\n",
       "      <th>Laundering_type_Normal_Small_Fan_Out</th>\n",
       "      <th>Laundering_type_Normal_single_large</th>\n",
       "      <th>Laundering_type_Scatter-Gather</th>\n",
       "      <th>Laundering_type_Single_large</th>\n",
       "      <th>Laundering_type_Smurfing</th>\n",
       "      <th>Laundering_type_Stacked Bipartite</th>\n",
       "      <th>Laundering_type_Structuring</th>\n",
       "      <th>Is_laundering</th>\n",
       "    </tr>\n",
       "  </thead>\n",
       "  <tbody>\n",
       "    <tr>\n",
       "      <th>0</th>\n",
       "      <td>4248061080</td>\n",
       "      <td>9527052910</td>\n",
       "      <td>13480.74</td>\n",
       "      <td>2023</td>\n",
       "      <td>8</td>\n",
       "      <td>14</td>\n",
       "      <td>2</td>\n",
       "      <td>8</td>\n",
       "      <td>46</td>\n",
       "      <td>0</td>\n",
       "      <td>...</td>\n",
       "      <td>0</td>\n",
       "      <td>1</td>\n",
       "      <td>0</td>\n",
       "      <td>0</td>\n",
       "      <td>0</td>\n",
       "      <td>0</td>\n",
       "      <td>0</td>\n",
       "      <td>0</td>\n",
       "      <td>0</td>\n",
       "      <td>0</td>\n",
       "    </tr>\n",
       "    <tr>\n",
       "      <th>1</th>\n",
       "      <td>9130896737</td>\n",
       "      <td>908371799</td>\n",
       "      <td>10480.05</td>\n",
       "      <td>2023</td>\n",
       "      <td>7</td>\n",
       "      <td>2</td>\n",
       "      <td>19</td>\n",
       "      <td>48</td>\n",
       "      <td>23</td>\n",
       "      <td>0</td>\n",
       "      <td>...</td>\n",
       "      <td>0</td>\n",
       "      <td>0</td>\n",
       "      <td>0</td>\n",
       "      <td>0</td>\n",
       "      <td>0</td>\n",
       "      <td>0</td>\n",
       "      <td>0</td>\n",
       "      <td>0</td>\n",
       "      <td>0</td>\n",
       "      <td>0</td>\n",
       "    </tr>\n",
       "    <tr>\n",
       "      <th>2</th>\n",
       "      <td>1466348255</td>\n",
       "      <td>8545558838</td>\n",
       "      <td>26232.35</td>\n",
       "      <td>2023</td>\n",
       "      <td>7</td>\n",
       "      <td>22</td>\n",
       "      <td>12</td>\n",
       "      <td>4</td>\n",
       "      <td>24</td>\n",
       "      <td>0</td>\n",
       "      <td>...</td>\n",
       "      <td>0</td>\n",
       "      <td>0</td>\n",
       "      <td>0</td>\n",
       "      <td>0</td>\n",
       "      <td>0</td>\n",
       "      <td>0</td>\n",
       "      <td>0</td>\n",
       "      <td>0</td>\n",
       "      <td>0</td>\n",
       "      <td>0</td>\n",
       "    </tr>\n",
       "    <tr>\n",
       "      <th>3</th>\n",
       "      <td>2181923623</td>\n",
       "      <td>6234034932</td>\n",
       "      <td>447.07</td>\n",
       "      <td>2022</td>\n",
       "      <td>10</td>\n",
       "      <td>28</td>\n",
       "      <td>17</td>\n",
       "      <td>8</td>\n",
       "      <td>2</td>\n",
       "      <td>0</td>\n",
       "      <td>...</td>\n",
       "      <td>0</td>\n",
       "      <td>0</td>\n",
       "      <td>1</td>\n",
       "      <td>0</td>\n",
       "      <td>0</td>\n",
       "      <td>0</td>\n",
       "      <td>0</td>\n",
       "      <td>0</td>\n",
       "      <td>0</td>\n",
       "      <td>0</td>\n",
       "    </tr>\n",
       "    <tr>\n",
       "      <th>4</th>\n",
       "      <td>8596132461</td>\n",
       "      <td>3638213339</td>\n",
       "      <td>1005.62</td>\n",
       "      <td>2023</td>\n",
       "      <td>2</td>\n",
       "      <td>21</td>\n",
       "      <td>22</td>\n",
       "      <td>44</td>\n",
       "      <td>17</td>\n",
       "      <td>0</td>\n",
       "      <td>...</td>\n",
       "      <td>0</td>\n",
       "      <td>0</td>\n",
       "      <td>1</td>\n",
       "      <td>0</td>\n",
       "      <td>0</td>\n",
       "      <td>0</td>\n",
       "      <td>0</td>\n",
       "      <td>0</td>\n",
       "      <td>0</td>\n",
       "      <td>0</td>\n",
       "    </tr>\n",
       "  </tbody>\n",
       "</table>\n",
       "<p>5 rows × 106 columns</p>\n",
       "</div>"
      ],
      "text/plain": [
       "   Sender_account  Receiver_account    Amount  Year  Month  Day  Hour  Minute  \\\n",
       "0      4248061080        9527052910  13480.74  2023      8   14     2       8   \n",
       "1      9130896737         908371799  10480.05  2023      7    2    19      48   \n",
       "2      1466348255        8545558838  26232.35  2023      7   22    12       4   \n",
       "3      2181923623        6234034932    447.07  2022     10   28    17       8   \n",
       "4      8596132461        3638213339   1005.62  2023      2   21    22      44   \n",
       "\n",
       "   Second  Payment_currency_Albanian lek  ...  \\\n",
       "0      46                              0  ...   \n",
       "1      23                              0  ...   \n",
       "2      24                              0  ...   \n",
       "3       2                              0  ...   \n",
       "4      17                              0  ...   \n",
       "\n",
       "   Laundering_type_Normal_Periodical  Laundering_type_Normal_Plus_Mutual  \\\n",
       "0                                  0                                   1   \n",
       "1                                  0                                   0   \n",
       "2                                  0                                   0   \n",
       "3                                  0                                   0   \n",
       "4                                  0                                   0   \n",
       "\n",
       "   Laundering_type_Normal_Small_Fan_Out  Laundering_type_Normal_single_large  \\\n",
       "0                                     0                                    0   \n",
       "1                                     0                                    0   \n",
       "2                                     0                                    0   \n",
       "3                                     1                                    0   \n",
       "4                                     1                                    0   \n",
       "\n",
       "   Laundering_type_Scatter-Gather  Laundering_type_Single_large  \\\n",
       "0                               0                             0   \n",
       "1                               0                             0   \n",
       "2                               0                             0   \n",
       "3                               0                             0   \n",
       "4                               0                             0   \n",
       "\n",
       "   Laundering_type_Smurfing  Laundering_type_Stacked Bipartite  \\\n",
       "0                         0                                  0   \n",
       "1                         0                                  0   \n",
       "2                         0                                  0   \n",
       "3                         0                                  0   \n",
       "4                         0                                  0   \n",
       "\n",
       "   Laundering_type_Structuring  Is_laundering  \n",
       "0                            0              0  \n",
       "1                            0              0  \n",
       "2                            0              0  \n",
       "3                            0              0  \n",
       "4                            0              0  \n",
       "\n",
       "[5 rows x 106 columns]"
      ]
     },
     "execution_count": 30,
     "metadata": {},
     "output_type": "execute_result"
    }
   ],
   "source": [
    "data.head()"
   ]
  },
  {
   "cell_type": "code",
   "execution_count": 31,
   "metadata": {},
   "outputs": [],
   "source": [
    "#creating high_risk_countries column\n",
    "# List of high-risk countries\n",
    "high_risk_countries = {\"Nigeria\", \"Morocco\", \"Turkey\", \"Pakistan\", \"Mexico\", \"Spain\"}\n",
    "# Identify one-hot encoded columns for high-risk countries\n",
    "sender_columns = [f\"Sender_bank_location_{country}\" for country in high_risk_countries]\n",
    "receiver_columns = [f\"Receiver_bank_location_{country}\" for country in high_risk_countries]"
   ]
  },
  {
   "cell_type": "code",
   "execution_count": 32,
   "metadata": {},
   "outputs": [],
   "source": [
    "# Check if any of the sender or receiver columns indicate a high-risk country\n",
    "data['high_risk_countries'] = data[sender_columns + receiver_columns].sum(axis=1).apply(lambda x: 1 if x > 0 else 0)"
   ]
  },
  {
   "cell_type": "code",
   "execution_count": 33,
   "metadata": {},
   "outputs": [
    {
     "data": {
      "text/html": [
       "<div>\n",
       "<style scoped>\n",
       "    .dataframe tbody tr th:only-of-type {\n",
       "        vertical-align: middle;\n",
       "    }\n",
       "\n",
       "    .dataframe tbody tr th {\n",
       "        vertical-align: top;\n",
       "    }\n",
       "\n",
       "    .dataframe thead th {\n",
       "        text-align: right;\n",
       "    }\n",
       "</style>\n",
       "<table border=\"1\" class=\"dataframe\">\n",
       "  <thead>\n",
       "    <tr style=\"text-align: right;\">\n",
       "      <th></th>\n",
       "      <th>Sender_account</th>\n",
       "      <th>Receiver_account</th>\n",
       "      <th>Amount</th>\n",
       "      <th>Year</th>\n",
       "      <th>Month</th>\n",
       "      <th>Day</th>\n",
       "      <th>Hour</th>\n",
       "      <th>Minute</th>\n",
       "      <th>Second</th>\n",
       "      <th>Payment_currency_Albanian lek</th>\n",
       "      <th>...</th>\n",
       "      <th>Laundering_type_Normal_Plus_Mutual</th>\n",
       "      <th>Laundering_type_Normal_Small_Fan_Out</th>\n",
       "      <th>Laundering_type_Normal_single_large</th>\n",
       "      <th>Laundering_type_Scatter-Gather</th>\n",
       "      <th>Laundering_type_Single_large</th>\n",
       "      <th>Laundering_type_Smurfing</th>\n",
       "      <th>Laundering_type_Stacked Bipartite</th>\n",
       "      <th>Laundering_type_Structuring</th>\n",
       "      <th>Is_laundering</th>\n",
       "      <th>high_risk_countries</th>\n",
       "    </tr>\n",
       "  </thead>\n",
       "  <tbody>\n",
       "    <tr>\n",
       "      <th>0</th>\n",
       "      <td>4248061080</td>\n",
       "      <td>9527052910</td>\n",
       "      <td>13480.74</td>\n",
       "      <td>2023</td>\n",
       "      <td>8</td>\n",
       "      <td>14</td>\n",
       "      <td>2</td>\n",
       "      <td>8</td>\n",
       "      <td>46</td>\n",
       "      <td>0</td>\n",
       "      <td>...</td>\n",
       "      <td>1</td>\n",
       "      <td>0</td>\n",
       "      <td>0</td>\n",
       "      <td>0</td>\n",
       "      <td>0</td>\n",
       "      <td>0</td>\n",
       "      <td>0</td>\n",
       "      <td>0</td>\n",
       "      <td>0</td>\n",
       "      <td>0</td>\n",
       "    </tr>\n",
       "    <tr>\n",
       "      <th>1</th>\n",
       "      <td>9130896737</td>\n",
       "      <td>908371799</td>\n",
       "      <td>10480.05</td>\n",
       "      <td>2023</td>\n",
       "      <td>7</td>\n",
       "      <td>2</td>\n",
       "      <td>19</td>\n",
       "      <td>48</td>\n",
       "      <td>23</td>\n",
       "      <td>0</td>\n",
       "      <td>...</td>\n",
       "      <td>0</td>\n",
       "      <td>0</td>\n",
       "      <td>0</td>\n",
       "      <td>0</td>\n",
       "      <td>0</td>\n",
       "      <td>0</td>\n",
       "      <td>0</td>\n",
       "      <td>0</td>\n",
       "      <td>0</td>\n",
       "      <td>0</td>\n",
       "    </tr>\n",
       "    <tr>\n",
       "      <th>2</th>\n",
       "      <td>1466348255</td>\n",
       "      <td>8545558838</td>\n",
       "      <td>26232.35</td>\n",
       "      <td>2023</td>\n",
       "      <td>7</td>\n",
       "      <td>22</td>\n",
       "      <td>12</td>\n",
       "      <td>4</td>\n",
       "      <td>24</td>\n",
       "      <td>0</td>\n",
       "      <td>...</td>\n",
       "      <td>0</td>\n",
       "      <td>0</td>\n",
       "      <td>0</td>\n",
       "      <td>0</td>\n",
       "      <td>0</td>\n",
       "      <td>0</td>\n",
       "      <td>0</td>\n",
       "      <td>0</td>\n",
       "      <td>0</td>\n",
       "      <td>0</td>\n",
       "    </tr>\n",
       "    <tr>\n",
       "      <th>3</th>\n",
       "      <td>2181923623</td>\n",
       "      <td>6234034932</td>\n",
       "      <td>447.07</td>\n",
       "      <td>2022</td>\n",
       "      <td>10</td>\n",
       "      <td>28</td>\n",
       "      <td>17</td>\n",
       "      <td>8</td>\n",
       "      <td>2</td>\n",
       "      <td>0</td>\n",
       "      <td>...</td>\n",
       "      <td>0</td>\n",
       "      <td>1</td>\n",
       "      <td>0</td>\n",
       "      <td>0</td>\n",
       "      <td>0</td>\n",
       "      <td>0</td>\n",
       "      <td>0</td>\n",
       "      <td>0</td>\n",
       "      <td>0</td>\n",
       "      <td>0</td>\n",
       "    </tr>\n",
       "    <tr>\n",
       "      <th>4</th>\n",
       "      <td>8596132461</td>\n",
       "      <td>3638213339</td>\n",
       "      <td>1005.62</td>\n",
       "      <td>2023</td>\n",
       "      <td>2</td>\n",
       "      <td>21</td>\n",
       "      <td>22</td>\n",
       "      <td>44</td>\n",
       "      <td>17</td>\n",
       "      <td>0</td>\n",
       "      <td>...</td>\n",
       "      <td>0</td>\n",
       "      <td>1</td>\n",
       "      <td>0</td>\n",
       "      <td>0</td>\n",
       "      <td>0</td>\n",
       "      <td>0</td>\n",
       "      <td>0</td>\n",
       "      <td>0</td>\n",
       "      <td>0</td>\n",
       "      <td>0</td>\n",
       "    </tr>\n",
       "  </tbody>\n",
       "</table>\n",
       "<p>5 rows × 107 columns</p>\n",
       "</div>"
      ],
      "text/plain": [
       "   Sender_account  Receiver_account    Amount  Year  Month  Day  Hour  Minute  \\\n",
       "0      4248061080        9527052910  13480.74  2023      8   14     2       8   \n",
       "1      9130896737         908371799  10480.05  2023      7    2    19      48   \n",
       "2      1466348255        8545558838  26232.35  2023      7   22    12       4   \n",
       "3      2181923623        6234034932    447.07  2022     10   28    17       8   \n",
       "4      8596132461        3638213339   1005.62  2023      2   21    22      44   \n",
       "\n",
       "   Second  Payment_currency_Albanian lek  ...  \\\n",
       "0      46                              0  ...   \n",
       "1      23                              0  ...   \n",
       "2      24                              0  ...   \n",
       "3       2                              0  ...   \n",
       "4      17                              0  ...   \n",
       "\n",
       "   Laundering_type_Normal_Plus_Mutual  Laundering_type_Normal_Small_Fan_Out  \\\n",
       "0                                   1                                     0   \n",
       "1                                   0                                     0   \n",
       "2                                   0                                     0   \n",
       "3                                   0                                     1   \n",
       "4                                   0                                     1   \n",
       "\n",
       "   Laundering_type_Normal_single_large  Laundering_type_Scatter-Gather  \\\n",
       "0                                    0                               0   \n",
       "1                                    0                               0   \n",
       "2                                    0                               0   \n",
       "3                                    0                               0   \n",
       "4                                    0                               0   \n",
       "\n",
       "   Laundering_type_Single_large  Laundering_type_Smurfing  \\\n",
       "0                             0                         0   \n",
       "1                             0                         0   \n",
       "2                             0                         0   \n",
       "3                             0                         0   \n",
       "4                             0                         0   \n",
       "\n",
       "   Laundering_type_Stacked Bipartite  Laundering_type_Structuring  \\\n",
       "0                                  0                            0   \n",
       "1                                  0                            0   \n",
       "2                                  0                            0   \n",
       "3                                  0                            0   \n",
       "4                                  0                            0   \n",
       "\n",
       "   Is_laundering  high_risk_countries  \n",
       "0              0                    0  \n",
       "1              0                    0  \n",
       "2              0                    0  \n",
       "3              0                    0  \n",
       "4              0                    0  \n",
       "\n",
       "[5 rows x 107 columns]"
      ]
     },
     "execution_count": 33,
     "metadata": {},
     "output_type": "execute_result"
    }
   ],
   "source": [
    "data.head()"
   ]
  },
  {
   "cell_type": "code",
   "execution_count": 34,
   "metadata": {},
   "outputs": [
    {
     "data": {
      "image/png": "[encoded data removed]",
      "text/plain": [
       "<Figure size 640x480 with 1 Axes>"
      ]
     },
     "metadata": {},
     "output_type": "display_data"
    }
   ],
   "source": [
    "counts = data['high_risk_countries'].value_counts()\n",
    "\n",
    "# Plotting the counts\n",
    "counts.plot(kind='bar', color=['blue', 'orange'])\n",
    "plt.xlabel('High Risk Countries (1)')\n",
    "plt.ylabel('Count')\n",
    "plt.title('Comparison of Transactions ')\n",
    "plt.xticks([0, 1], ['0', '1'], rotation=0)\n",
    "plt.show()"
   ]
  },
  {
   "cell_type": "code",
   "execution_count": 35,
   "metadata": {},
   "outputs": [],
   "source": [
    "# Alternatively, convert specific 'bool' dtype columns\n",
    "bool_cols = data.select_dtypes(include='bool').columns\n",
    "data[bool_cols] = data[bool_cols].astype(int)"
   ]
  },
  {
   "cell_type": "code",
   "execution_count": 36,
   "metadata": {},
   "outputs": [
    {
     "data": {
      "text/html": [
       "<div>\n",
       "<style scoped>\n",
       "    .dataframe tbody tr th:only-of-type {\n",
       "        vertical-align: middle;\n",
       "    }\n",
       "\n",
       "    .dataframe tbody tr th {\n",
       "        vertical-align: top;\n",
       "    }\n",
       "\n",
       "    .dataframe thead th {\n",
       "        text-align: right;\n",
       "    }\n",
       "</style>\n",
       "<table border=\"1\" class=\"dataframe\">\n",
       "  <thead>\n",
       "    <tr style=\"text-align: right;\">\n",
       "      <th></th>\n",
       "      <th>Sender_account</th>\n",
       "      <th>Receiver_account</th>\n",
       "      <th>Amount</th>\n",
       "      <th>Year</th>\n",
       "      <th>Month</th>\n",
       "      <th>Day</th>\n",
       "      <th>Hour</th>\n",
       "      <th>Minute</th>\n",
       "      <th>Second</th>\n",
       "      <th>Payment_currency_Albanian lek</th>\n",
       "      <th>...</th>\n",
       "      <th>Laundering_type_Normal_Plus_Mutual</th>\n",
       "      <th>Laundering_type_Normal_Small_Fan_Out</th>\n",
       "      <th>Laundering_type_Normal_single_large</th>\n",
       "      <th>Laundering_type_Scatter-Gather</th>\n",
       "      <th>Laundering_type_Single_large</th>\n",
       "      <th>Laundering_type_Smurfing</th>\n",
       "      <th>Laundering_type_Stacked Bipartite</th>\n",
       "      <th>Laundering_type_Structuring</th>\n",
       "      <th>Is_laundering</th>\n",
       "      <th>high_risk_countries</th>\n",
       "    </tr>\n",
       "  </thead>\n",
       "  <tbody>\n",
       "    <tr>\n",
       "      <th>0</th>\n",
       "      <td>4248061080</td>\n",
       "      <td>9527052910</td>\n",
       "      <td>13480.74</td>\n",
       "      <td>2023</td>\n",
       "      <td>8</td>\n",
       "      <td>14</td>\n",
       "      <td>2</td>\n",
       "      <td>8</td>\n",
       "      <td>46</td>\n",
       "      <td>0</td>\n",
       "      <td>...</td>\n",
       "      <td>1</td>\n",
       "      <td>0</td>\n",
       "      <td>0</td>\n",
       "      <td>0</td>\n",
       "      <td>0</td>\n",
       "      <td>0</td>\n",
       "      <td>0</td>\n",
       "      <td>0</td>\n",
       "      <td>0</td>\n",
       "      <td>0</td>\n",
       "    </tr>\n",
       "    <tr>\n",
       "      <th>1</th>\n",
       "      <td>9130896737</td>\n",
       "      <td>908371799</td>\n",
       "      <td>10480.05</td>\n",
       "      <td>2023</td>\n",
       "      <td>7</td>\n",
       "      <td>2</td>\n",
       "      <td>19</td>\n",
       "      <td>48</td>\n",
       "      <td>23</td>\n",
       "      <td>0</td>\n",
       "      <td>...</td>\n",
       "      <td>0</td>\n",
       "      <td>0</td>\n",
       "      <td>0</td>\n",
       "      <td>0</td>\n",
       "      <td>0</td>\n",
       "      <td>0</td>\n",
       "      <td>0</td>\n",
       "      <td>0</td>\n",
       "      <td>0</td>\n",
       "      <td>0</td>\n",
       "    </tr>\n",
       "    <tr>\n",
       "      <th>2</th>\n",
       "      <td>1466348255</td>\n",
       "      <td>8545558838</td>\n",
       "      <td>26232.35</td>\n",
       "      <td>2023</td>\n",
       "      <td>7</td>\n",
       "      <td>22</td>\n",
       "      <td>12</td>\n",
       "      <td>4</td>\n",
       "      <td>24</td>\n",
       "      <td>0</td>\n",
       "      <td>...</td>\n",
       "      <td>0</td>\n",
       "      <td>0</td>\n",
       "      <td>0</td>\n",
       "      <td>0</td>\n",
       "      <td>0</td>\n",
       "      <td>0</td>\n",
       "      <td>0</td>\n",
       "      <td>0</td>\n",
       "      <td>0</td>\n",
       "      <td>0</td>\n",
       "    </tr>\n",
       "    <tr>\n",
       "      <th>3</th>\n",
       "      <td>2181923623</td>\n",
       "      <td>6234034932</td>\n",
       "      <td>447.07</td>\n",
       "      <td>2022</td>\n",
       "      <td>10</td>\n",
       "      <td>28</td>\n",
       "      <td>17</td>\n",
       "      <td>8</td>\n",
       "      <td>2</td>\n",
       "      <td>0</td>\n",
       "      <td>...</td>\n",
       "      <td>0</td>\n",
       "      <td>1</td>\n",
       "      <td>0</td>\n",
       "      <td>0</td>\n",
       "      <td>0</td>\n",
       "      <td>0</td>\n",
       "      <td>0</td>\n",
       "      <td>0</td>\n",
       "      <td>0</td>\n",
       "      <td>0</td>\n",
       "    </tr>\n",
       "    <tr>\n",
       "      <th>4</th>\n",
       "      <td>8596132461</td>\n",
       "      <td>3638213339</td>\n",
       "      <td>1005.62</td>\n",
       "      <td>2023</td>\n",
       "      <td>2</td>\n",
       "      <td>21</td>\n",
       "      <td>22</td>\n",
       "      <td>44</td>\n",
       "      <td>17</td>\n",
       "      <td>0</td>\n",
       "      <td>...</td>\n",
       "      <td>0</td>\n",
       "      <td>1</td>\n",
       "      <td>0</td>\n",
       "      <td>0</td>\n",
       "      <td>0</td>\n",
       "      <td>0</td>\n",
       "      <td>0</td>\n",
       "      <td>0</td>\n",
       "      <td>0</td>\n",
       "      <td>0</td>\n",
       "    </tr>\n",
       "  </tbody>\n",
       "</table>\n",
       "<p>5 rows × 107 columns</p>\n",
       "</div>"
      ],
      "text/plain": [
       "   Sender_account  Receiver_account    Amount  Year  Month  Day  Hour  Minute  \\\n",
       "0      4248061080        9527052910  13480.74  2023      8   14     2       8   \n",
       "1      9130896737         908371799  10480.05  2023      7    2    19      48   \n",
       "2      1466348255        8545558838  26232.35  2023      7   22    12       4   \n",
       "3      2181923623        6234034932    447.07  2022     10   28    17       8   \n",
       "4      8596132461        3638213339   1005.62  2023      2   21    22      44   \n",
       "\n",
       "   Second  Payment_currency_Albanian lek  ...  \\\n",
       "0      46                              0  ...   \n",
       "1      23                              0  ...   \n",
       "2      24                              0  ...   \n",
       "3       2                              0  ...   \n",
       "4      17                              0  ...   \n",
       "\n",
       "   Laundering_type_Normal_Plus_Mutual  Laundering_type_Normal_Small_Fan_Out  \\\n",
       "0                                   1                                     0   \n",
       "1                                   0                                     0   \n",
       "2                                   0                                     0   \n",
       "3                                   0                                     1   \n",
       "4                                   0                                     1   \n",
       "\n",
       "   Laundering_type_Normal_single_large  Laundering_type_Scatter-Gather  \\\n",
       "0                                    0                               0   \n",
       "1                                    0                               0   \n",
       "2                                    0                               0   \n",
       "3                                    0                               0   \n",
       "4                                    0                               0   \n",
       "\n",
       "   Laundering_type_Single_large  Laundering_type_Smurfing  \\\n",
       "0                             0                         0   \n",
       "1                             0                         0   \n",
       "2                             0                         0   \n",
       "3                             0                         0   \n",
       "4                             0                         0   \n",
       "\n",
       "   Laundering_type_Stacked Bipartite  Laundering_type_Structuring  \\\n",
       "0                                  0                            0   \n",
       "1                                  0                            0   \n",
       "2                                  0                            0   \n",
       "3                                  0                            0   \n",
       "4                                  0                            0   \n",
       "\n",
       "   Is_laundering  high_risk_countries  \n",
       "0              0                    0  \n",
       "1              0                    0  \n",
       "2              0                    0  \n",
       "3              0                    0  \n",
       "4              0                    0  \n",
       "\n",
       "[5 rows x 107 columns]"
      ]
     },
     "execution_count": 36,
     "metadata": {},
     "output_type": "execute_result"
    }
   ],
   "source": [
    "data.head()"
   ]
  },
  {
   "cell_type": "code",
   "execution_count": 37,
   "metadata": {},
   "outputs": [
    {
     "data": {
      "text/plain": [
       "Index(['Sender_account', 'Receiver_account', 'Amount', 'Year', 'Month', 'Day',\n",
       "       'Hour', 'Minute', 'Second', 'Payment_currency_Albanian lek',\n",
       "       ...\n",
       "       'Laundering_type_Normal_Plus_Mutual',\n",
       "       'Laundering_type_Normal_Small_Fan_Out',\n",
       "       'Laundering_type_Normal_single_large', 'Laundering_type_Scatter-Gather',\n",
       "       'Laundering_type_Single_large', 'Laundering_type_Smurfing',\n",
       "       'Laundering_type_Stacked Bipartite', 'Laundering_type_Structuring',\n",
       "       'Is_laundering', 'high_risk_countries'],\n",
       "      dtype='object', length=107)"
      ]
     },
     "execution_count": 37,
     "metadata": {},
     "output_type": "execute_result"
    }
   ],
   "source": [
    "data.columns"
   ]
  },
  {
   "cell_type": "markdown",
   "metadata": {},
   "source": [
    "# Random Forest Classifier"
   ]
  },
  {
   "cell_type": "code",
   "execution_count": 38,
   "metadata": {},
   "outputs": [],
   "source": [
    "#splitting dataset into features(x) and  target(y) \n",
    "X = data[['Day', 'Month', 'Year', 'Hour', 'Minute', 'Second']]\n",
    "y = data['Is_laundering']"
   ]
  },
  {
   "cell_type": "code",
   "execution_count": 39,
   "metadata": {},
   "outputs": [],
   "source": [
    "from sklearn.model_selection import train_test_split\n",
    "from sklearn.ensemble import RandomForestClassifier\n",
    "from sklearn.metrics import accuracy_score, classification_report"
   ]
  },
  {
   "cell_type": "code",
   "execution_count": 40,
   "metadata": {},
   "outputs": [],
   "source": [
    "X_train, X_test, y_train, y_test = train_test_split(X, y, test_size=0.3, random_state=42)"
   ]
  },
  {
   "cell_type": "code",
   "execution_count": 41,
   "metadata": {},
   "outputs": [
    {
     "data": {
      "text/html": [
       "<style>#sk-container-id-1 {color: black;background-color: white;}#sk-container-id-1 pre{padding: 0;}#sk-container-id-1 div.sk-toggleable {background-color: white;}#sk-container-id-1 label.sk-toggleable__label {cursor: pointer;display: block;width: 100%;margin-bottom: 0;padding: 0.3em;box-sizing: border-box;text-align: center;}#sk-container-id-1 label.sk-toggleable__label-arrow:before {content: \"▸\";float: left;margin-right: 0.25em;color: #696969;}#sk-container-id-1 label.sk-toggleable__label-arrow:hover:before {color: black;}#sk-container-id-1 div.sk-estimator:hover label.sk-toggleable__label-arrow:before {color: black;}#sk-container-id-1 div.sk-toggleable__content {max-height: 0;max-width: 0;overflow: hidden;text-align: left;background-color: #f0f8ff;}#sk-container-id-1 div.sk-toggleable__content pre {margin: 0.2em;color: black;border-radius: 0.25em;background-color: #f0f8ff;}#sk-container-id-1 input.sk-toggleable__control:checked~div.sk-toggleable__content {max-height: 200px;max-width: 100%;overflow: auto;}#sk-container-id-1 input.sk-toggleable__control:checked~label.sk-toggleable__label-arrow:before {content: \"▾\";}#sk-container-id-1 div.sk-estimator input.sk-toggleable__control:checked~label.sk-toggleable__label {background-color: #d4ebff;}#sk-container-id-1 div.sk-label input.sk-toggleable__control:checked~label.sk-toggleable__label {background-color: #d4ebff;}#sk-container-id-1 input.sk-hidden--visually {border: 0;clip: rect(1px 1px 1px 1px);clip: rect(1px, 1px, 1px, 1px);height: 1px;margin: -1px;overflow: hidden;padding: 0;position: absolute;width: 1px;}#sk-container-id-1 div.sk-estimator {font-family: monospace;background-color: #f0f8ff;border: 1px dotted black;border-radius: 0.25em;box-sizing: border-box;margin-bottom: 0.5em;}#sk-container-id-1 div.sk-estimator:hover {background-color: #d4ebff;}#sk-container-id-1 div.sk-parallel-item::after {content: \"\";width: 100%;border-bottom: 1px solid gray;flex-grow: 1;}#sk-container-id-1 div.sk-label:hover label.sk-toggleable__label {background-color: #d4ebff;}#sk-container-id-1 div.sk-serial::before {content: \"\";position: absolute;border-left: 1px solid gray;box-sizing: border-box;top: 0;bottom: 0;left: 50%;z-index: 0;}#sk-container-id-1 div.sk-serial {display: flex;flex-direction: column;align-items: center;background-color: white;padding-right: 0.2em;padding-left: 0.2em;position: relative;}#sk-container-id-1 div.sk-item {position: relative;z-index: 1;}#sk-container-id-1 div.sk-parallel {display: flex;align-items: stretch;justify-content: center;background-color: white;position: relative;}#sk-container-id-1 div.sk-item::before, #sk-container-id-1 div.sk-parallel-item::before {content: \"\";position: absolute;border-left: 1px solid gray;box-sizing: border-box;top: 0;bottom: 0;left: 50%;z-index: -1;}#sk-container-id-1 div.sk-parallel-item {display: flex;flex-direction: column;z-index: 1;position: relative;background-color: white;}#sk-container-id-1 div.sk-parallel-item:first-child::after {align-self: flex-end;width: 50%;}#sk-container-id-1 div.sk-parallel-item:last-child::after {align-self: flex-start;width: 50%;}#sk-container-id-1 div.sk-parallel-item:only-child::after {width: 0;}#sk-container-id-1 div.sk-dashed-wrapped {border: 1px dashed gray;margin: 0 0.4em 0.5em 0.4em;box-sizing: border-box;padding-bottom: 0.4em;background-color: white;}#sk-container-id-1 div.sk-label label {font-family: monospace;font-weight: bold;display: inline-block;line-height: 1.2em;}#sk-container-id-1 div.sk-label-container {text-align: center;}#sk-container-id-1 div.sk-container {/* jupyter's `normalize.less` sets `[hidden] { display: none; }` but bootstrap.min.css set `[hidden] { display: none !important; }` so we also need the `!important` here to be able to override the default hidden behavior on the sphinx rendered scikit-learn.org. See: https://github.com/scikit-learn/scikit-learn/issues/21755 */display: inline-block !important;position: relative;}#sk-container-id-1 div.sk-text-repr-fallback {display: none;}</style><div id=\"sk-container-id-1\" class=\"sk-top-container\"><div class=\"sk-text-repr-fallback\"><pre>RandomForestClassifier(random_state=42)</pre><b>In a Jupyter environment, please rerun this cell to show the HTML representation or trust the notebook. <br />On GitHub, the HTML representation is unable to render, please try loading this page with nbviewer.org.</b></div><div class=\"sk-container\" hidden><div class=\"sk-item\"><div class=\"sk-estimator sk-toggleable\"><input class=\"sk-toggleable__control sk-hidden--visually\" id=\"sk-estimator-id-1\" type=\"checkbox\" checked><label for=\"sk-estimator-id-1\" class=\"sk-toggleable__label sk-toggleable__label-arrow\">RandomForestClassifier</label><div class=\"sk-toggleable__content\"><pre>RandomForestClassifier(random_state=42)</pre></div></div></div></div></div>"
      ],
      "text/plain": [
       "RandomForestClassifier(random_state=42)"
      ]
     },
     "execution_count": 41,
     "metadata": {},
     "output_type": "execute_result"
    }
   ],
   "source": [
    "model = RandomForestClassifier(random_state=42)\n",
    "model.fit(X_train, y_train)"
   ]
  },
  {
   "cell_type": "code",
   "execution_count": 42,
   "metadata": {},
   "outputs": [],
   "source": [
    "predictions = model.predict(X_test)"
   ]
  },
  {
   "cell_type": "code",
   "execution_count": 43,
   "metadata": {},
   "outputs": [
    {
     "name": "stdout",
     "output_type": "stream",
     "text": [
      "Accuracy: 0.988065294389405\n"
     ]
    }
   ],
   "source": [
    "accuracy = accuracy_score(y_test, predictions)\n",
    "print(f\"Accuracy: {accuracy}\")"
   ]
  },
  {
   "cell_type": "code",
   "execution_count": 44,
   "metadata": {},
   "outputs": [
    {
     "name": "stdout",
     "output_type": "stream",
     "text": [
      "Classification Report:\n",
      "              precision    recall  f1-score   support\n",
      "\n",
      "           0       0.99      0.99      0.99     59862\n",
      "           1       0.97      0.98      0.97     18062\n",
      "\n",
      "    accuracy                           0.99     77924\n",
      "   macro avg       0.98      0.99      0.98     77924\n",
      "weighted avg       0.99      0.99      0.99     77924\n",
      "\n"
     ]
    }
   ],
   "source": [
    "print(\"Classification Report:\")\n",
    "print(classification_report(y_test, predictions))"
   ]
  },
  {
   "cell_type": "markdown",
   "metadata": {},
   "source": [
    "# \n",
    "- Training Error"
   ]
  },
  {
   "cell_type": "code",
   "execution_count": 45,
   "metadata": {},
   "outputs": [
    {
     "name": "stdout",
     "output_type": "stream",
     "text": [
      "Training Error: 0.0004\n"
     ]
    }
   ],
   "source": [
    "y_train_pred = model.predict(X_train)\n",
    "train_error = 1 - accuracy_score(y_train, y_train_pred)  # For classification (error = 1 - accuracy)\n",
    "\n",
    "# Step 6: Print the training error\n",
    "print(f\"Training Error: {train_error:.4f}\")"
   ]
  },
  {
   "cell_type": "markdown",
   "metadata": {},
   "source": [
    "#\n",
    "- Testing Error"
   ]
  },
  {
   "cell_type": "code",
   "execution_count": 46,
   "metadata": {},
   "outputs": [
    {
     "name": "stdout",
     "output_type": "stream",
     "text": [
      "Testing Error: 0.0119\n"
     ]
    }
   ],
   "source": [
    "y_test_pred = model.predict(X_test)\n",
    "\n",
    "# Step 5: Calculate the testing error\n",
    "test_error = 1 - accuracy_score(y_test, y_test_pred)  # For classification (error = 1 - accuracy)\n",
    "\n",
    "# Step 6: Print the testing error\n",
    "print(f\"Testing Error: {test_error:.4f}\")"
   ]
  },
  {
   "cell_type": "code",
   "execution_count": null,
   "metadata": {},
   "outputs": [],
   "source": []
  },
  {
   "cell_type": "code",
   "execution_count": 48,
   "metadata": {},
   "outputs": [
    {
     "name": "stdout",
     "output_type": "stream",
     "text": [
      "Starting fake data stream. Press Ctrl+C to stop...\n",
      "\n",
      "{\n",
      "    \"Day\": 12,\n",
      "    \"Month\": 7,\n",
      "    \"Year\": 2022,\n",
      "    \"Hour\": 12,\n",
      "    \"Minute\": 2,\n",
      "    \"Second\": 36,\n",
      "    \"Is_laundering\": 0\n",
      "}\n",
      "{\n",
      "    \"Day\": 9,\n",
      "    \"Month\": 8,\n",
      "    \"Year\": 2022,\n",
      "    \"Hour\": 0,\n",
      "    \"Minute\": 1,\n",
      "    \"Second\": 27,\n",
      "    \"Is_laundering\": 0\n",
      "}\n",
      "{\n",
      "    \"Day\": 11,\n",
      "    \"Month\": 1,\n",
      "    \"Year\": 2022,\n",
      "    \"Hour\": 13,\n",
      "    \"Minute\": 18,\n",
      "    \"Second\": 33,\n",
      "    \"Is_laundering\": 0\n",
      "}\n",
      "{\n",
      "    \"Day\": 26,\n",
      "    \"Month\": 4,\n",
      "    \"Year\": 2022,\n",
      "    \"Hour\": 9,\n",
      "    \"Minute\": 3,\n",
      "    \"Second\": 23,\n",
      "    \"Is_laundering\": 1\n",
      "}\n",
      "{\n",
      "    \"Day\": 13,\n",
      "    \"Month\": 11,\n",
      "    \"Year\": 2022,\n",
      "    \"Hour\": 2,\n",
      "    \"Minute\": 15,\n",
      "    \"Second\": 12,\n",
      "    \"Is_laundering\": 1\n",
      "}\n",
      "{\n",
      "    \"Day\": 7,\n",
      "    \"Month\": 10,\n",
      "    \"Year\": 2022,\n",
      "    \"Hour\": 3,\n",
      "    \"Minute\": 33,\n",
      "    \"Second\": 31,\n",
      "    \"Is_laundering\": 0\n",
      "}\n",
      "{\n",
      "    \"Day\": 23,\n",
      "    \"Month\": 12,\n",
      "    \"Year\": 2022,\n",
      "    \"Hour\": 14,\n",
      "    \"Minute\": 33,\n",
      "    \"Second\": 50,\n",
      "    \"Is_laundering\": 1\n",
      "}\n",
      "{\n",
      "    \"Day\": 1,\n",
      "    \"Month\": 5,\n",
      "    \"Year\": 2022,\n",
      "    \"Hour\": 5,\n",
      "    \"Minute\": 32,\n",
      "    \"Second\": 39,\n",
      "    \"Is_laundering\": 0\n",
      "}\n",
      "{\n",
      "    \"Day\": 17,\n",
      "    \"Month\": 2,\n",
      "    \"Year\": 2022,\n",
      "    \"Hour\": 8,\n",
      "    \"Minute\": 59,\n",
      "    \"Second\": 36,\n",
      "    \"Is_laundering\": 0\n",
      "}\n",
      "{\n",
      "    \"Day\": 14,\n",
      "    \"Month\": 2,\n",
      "    \"Year\": 2022,\n",
      "    \"Hour\": 8,\n",
      "    \"Minute\": 8,\n",
      "    \"Second\": 51,\n",
      "    \"Is_laundering\": 1\n",
      "}\n",
      "{\n",
      "    \"Day\": 6,\n",
      "    \"Month\": 9,\n",
      "    \"Year\": 2022,\n",
      "    \"Hour\": 12,\n",
      "    \"Minute\": 8,\n",
      "    \"Second\": 29,\n",
      "    \"Is_laundering\": 1\n",
      "}\n",
      "{\n",
      "    \"Day\": 12,\n",
      "    \"Month\": 4,\n",
      "    \"Year\": 2022,\n",
      "    \"Hour\": 12,\n",
      "    \"Minute\": 37,\n",
      "    \"Second\": 49,\n",
      "    \"Is_laundering\": 0\n",
      "}\n",
      "{\n",
      "    \"Day\": 17,\n",
      "    \"Month\": 3,\n",
      "    \"Year\": 2022,\n",
      "    \"Hour\": 10,\n",
      "    \"Minute\": 10,\n",
      "    \"Second\": 31,\n",
      "    \"Is_laundering\": 1\n",
      "}\n",
      "{\n",
      "    \"Day\": 5,\n",
      "    \"Month\": 11,\n",
      "    \"Year\": 2022,\n",
      "    \"Hour\": 16,\n",
      "    \"Minute\": 38,\n",
      "    \"Second\": 59,\n",
      "    \"Is_laundering\": 1\n",
      "}\n",
      "{\n",
      "    \"Day\": 7,\n",
      "    \"Month\": 4,\n",
      "    \"Year\": 2022,\n",
      "    \"Hour\": 1,\n",
      "    \"Minute\": 34,\n",
      "    \"Second\": 47,\n",
      "    \"Is_laundering\": 0\n",
      "}\n",
      "{\n",
      "    \"Day\": 4,\n",
      "    \"Month\": 8,\n",
      "    \"Year\": 2022,\n",
      "    \"Hour\": 15,\n",
      "    \"Minute\": 31,\n",
      "    \"Second\": 23,\n",
      "    \"Is_laundering\": 1\n",
      "}\n",
      "{\n",
      "    \"Day\": 10,\n",
      "    \"Month\": 9,\n",
      "    \"Year\": 2022,\n",
      "    \"Hour\": 3,\n",
      "    \"Minute\": 25,\n",
      "    \"Second\": 53,\n",
      "    \"Is_laundering\": 0\n",
      "}\n",
      "{\n",
      "    \"Day\": 26,\n",
      "    \"Month\": 8,\n",
      "    \"Year\": 2022,\n",
      "    \"Hour\": 11,\n",
      "    \"Minute\": 20,\n",
      "    \"Second\": 22,\n",
      "    \"Is_laundering\": 0\n",
      "}\n",
      "{\n",
      "    \"Day\": 30,\n",
      "    \"Month\": 7,\n",
      "    \"Year\": 2022,\n",
      "    \"Hour\": 10,\n",
      "    \"Minute\": 19,\n",
      "    \"Second\": 9,\n",
      "    \"Is_laundering\": 1\n",
      "}\n",
      "{\n",
      "    \"Day\": 8,\n",
      "    \"Month\": 11,\n",
      "    \"Year\": 2022,\n",
      "    \"Hour\": 1,\n",
      "    \"Minute\": 21,\n",
      "    \"Second\": 51,\n",
      "    \"Is_laundering\": 0\n",
      "}\n",
      "{\n",
      "    \"Day\": 10,\n",
      "    \"Month\": 11,\n",
      "    \"Year\": 2022,\n",
      "    \"Hour\": 13,\n",
      "    \"Minute\": 3,\n",
      "    \"Second\": 12,\n",
      "    \"Is_laundering\": 1\n",
      "}\n",
      "{\n",
      "    \"Day\": 27,\n",
      "    \"Month\": 8,\n",
      "    \"Year\": 2022,\n",
      "    \"Hour\": 13,\n",
      "    \"Minute\": 4,\n",
      "    \"Second\": 2,\n",
      "    \"Is_laundering\": 0\n",
      "}\n",
      "\n",
      "Streaming stopped.\n"
     ]
    }
   ],
   "source": [
    "import random\n",
    "from faker import Faker\n",
    "from datetime import datetime, timedelta\n",
    "import time\n",
    "import json\n",
    "\n",
    "# Initialize the Faker instance\n",
    "fake = Faker()\n",
    "\n",
    "# Function to generate a single fake data record\n",
    "def generate_fake_data():\n",
    "    \"\"\"\n",
    "    Generate a single fake transaction record with Day, Month, Year, Hour, Minute, Second, and Is_laundering.\n",
    "    \"\"\"\n",
    "    start_date = datetime(2022, 1, 1)  # Start date for random timestamp\n",
    "    random_timestamp = start_date + timedelta(seconds=random.randint(0, 31536000))  # Random date within 1 year\n",
    "\n",
    "    record = {\n",
    "        \"Day\": random_timestamp.day,\n",
    "        \"Month\": random_timestamp.month,\n",
    "        \"Year\": random_timestamp.year,\n",
    "        \"Hour\": random_timestamp.hour,\n",
    "        \"Minute\": random_timestamp.minute,\n",
    "        \"Second\": random_timestamp.second,\n",
    "        \"Is_laundering\": random.choice([0, 1])  # Random laundering flag: 0 (Normal), 1 (Suspicious)\n",
    "    }\n",
    "    return record\n",
    "\n",
    "# Function to continuously stream data\n",
    "def stream_fake_data(stream_interval=1):\n",
    "    \"\"\"\n",
    "    Continuously stream fake transaction data at regular intervals.\n",
    "    :param stream_interval: Interval in seconds between each data generation.\n",
    "    \"\"\"\n",
    "    print(\"Starting fake data stream. Press Ctrl+C to stop...\\n\")\n",
    "    try:\n",
    "        while True:\n",
    "            record = generate_fake_data()\n",
    "            print(json.dumps(record, indent=4))  # Stream the data as JSON\n",
    "            time.sleep(stream_interval)  # Wait for the specified interval\n",
    "    except KeyboardInterrupt:\n",
    "        print(\"\\nStreaming stopped.\")\n",
    "\n",
    "# Run the streaming function\n",
    "if __name__ == \"__main__\":\n",
    "    stream_fake_data(stream_interval=1)  # Set interval to 1 second\n"
   ]
  },
  {
   "cell_type": "code",
   "execution_count": 49,
   "metadata": {},
   "outputs": [
    {
     "name": "stdout",
     "output_type": "stream",
     "text": [
      "{'Day': 23, 'Month': 3, 'Year': 2022, 'Hour': 1, 'Minute': 26, 'Second': 46, 'Is_laundering': 1}\n",
      "{'Day': 26, 'Month': 5, 'Year': 2022, 'Hour': 1, 'Minute': 15, 'Second': 35, 'Is_laundering': 1}\n",
      "{'Day': 18, 'Month': 10, 'Year': 2022, 'Hour': 0, 'Minute': 37, 'Second': 42, 'Is_laundering': 1}\n",
      "{'Day': 10, 'Month': 4, 'Year': 2022, 'Hour': 12, 'Minute': 16, 'Second': 4, 'Is_laundering': 1}\n",
      "{'Day': 11, 'Month': 8, 'Year': 2022, 'Hour': 9, 'Minute': 41, 'Second': 5, 'Is_laundering': 1}\n",
      "{'Day': 18, 'Month': 5, 'Year': 2022, 'Hour': 10, 'Minute': 48, 'Second': 28, 'Is_laundering': 1}\n",
      "{'Day': 1, 'Month': 10, 'Year': 2022, 'Hour': 0, 'Minute': 25, 'Second': 34, 'Is_laundering': 1}\n",
      "{'Day': 16, 'Month': 1, 'Year': 2022, 'Hour': 7, 'Minute': 6, 'Second': 51, 'Is_laundering': 0}\n",
      "{'Day': 1, 'Month': 11, 'Year': 2022, 'Hour': 3, 'Minute': 8, 'Second': 4, 'Is_laundering': 0}\n",
      "{'Day': 3, 'Month': 5, 'Year': 2022, 'Hour': 10, 'Minute': 23, 'Second': 35, 'Is_laundering': 0}\n",
      "{'Day': 10, 'Month': 11, 'Year': 2022, 'Hour': 18, 'Minute': 53, 'Second': 9, 'Is_laundering': 0}\n",
      "{'Day': 22, 'Month': 11, 'Year': 2022, 'Hour': 7, 'Minute': 51, 'Second': 15, 'Is_laundering': 0}\n",
      "{'Day': 6, 'Month': 2, 'Year': 2022, 'Hour': 10, 'Minute': 30, 'Second': 55, 'Is_laundering': 0}\n"
     ]
    },
    {
     "ename": "KeyboardInterrupt",
     "evalue": "",
     "output_type": "error",
     "traceback": [
      "\u001b[1;31m---------------------------------------------------------------------------\u001b[0m",
      "\u001b[1;31mKeyboardInterrupt\u001b[0m                         Traceback (most recent call last)",
      "Cell \u001b[1;32mIn[49], line 30\u001b[0m\n\u001b[0;32m     27\u001b[0m serialized_data \u001b[38;5;241m=\u001b[39m json_serializer(My_Users)\n\u001b[0;32m     28\u001b[0m producer\u001b[38;5;241m.\u001b[39mproduce(\u001b[38;5;124m\"\u001b[39m\u001b[38;5;124mmoneylaundery4\u001b[39m\u001b[38;5;124m\"\u001b[39m, value\u001b[38;5;241m=\u001b[39mserialized_data)\n\u001b[1;32m---> 30\u001b[0m time\u001b[38;5;241m.\u001b[39msleep(\u001b[38;5;241m2\u001b[39m)\n",
      "\u001b[1;31mKeyboardInterrupt\u001b[0m: "
     ]
    }
   ],
   "source": [
    "from confluent_kafka import Producer\n",
    "import json\n",
    "import time\n",
    "\n",
    "# Configure the producer\n",
    "producer_config = {\n",
    "    'bootstrap.servers': '192.168.1.5:9092'  #  Kafka broker IP and port\n",
    "}\n",
    "\n",
    "# Create the producer instance\n",
    "producer = Producer(producer_config)\n",
    "\n",
    "# Serialization function\n",
    "def json_serializer(data):\n",
    "    return json.dumps(data).encode(\"utf-8\")\n",
    "\n",
    "\n",
    "# Main loop to send messages to Kafka\n",
    "\n",
    "if __name__ == \"__main__\":\n",
    "    while True:\n",
    "        # Generate user data\n",
    "        My_Users = generate_fake_data()\n",
    "        print(My_Users)\n",
    "\n",
    "        # Serialize data and send it to Kafka\n",
    "        serialized_data = json_serializer(My_Users)\n",
    "        producer.produce(\"moneylaundery4\", value=serialized_data)\n",
    "        \n",
    "        time.sleep(2)    "
   ]
  },
  {
   "cell_type": "code",
   "execution_count": 50,
   "metadata": {},
   "outputs": [],
   "source": [
    "import pickle\n",
    "\n",
    "# Train and save your model (if not already done)\n",
    "model = RandomForestClassifier(random_state=42)\n",
    "model.fit(X_train, y_train)  # X_train, y_train are your training data\n",
    "\n",
    "# Save the trained model to a pickle file\n",
    "with open('streamdata.pkl', 'wb') as file:\n",
    "    pickle.dump(model, file)"
   ]
  },
  {
   "cell_type": "code",
   "execution_count": null,
   "metadata": {},
   "outputs": [
    {
     "name": "stdout",
     "output_type": "stream",
     "text": [
      "Consumer Group 'Myconsumer' is now active and consuming messages from topic 'moneylaundery4'...\n",
      "Received message: {'Day': 23, 'Month': 3, 'Year': 2022, 'Hour': 1, 'Minute': 26, 'Second': 46, 'Is_laundering': 1}\n",
      "Predicted 'Is_laundering': 1\n",
      "Received message: {'Day': 26, 'Month': 5, 'Year': 2022, 'Hour': 1, 'Minute': 15, 'Second': 35, 'Is_laundering': 1}\n",
      "Predicted 'Is_laundering': 1\n",
      "Received message: {'Day': 18, 'Month': 10, 'Year': 2022, 'Hour': 0, 'Minute': 37, 'Second': 42, 'Is_laundering': 1}\n",
      "Predicted 'Is_laundering': 0\n",
      "Received message: {'Day': 10, 'Month': 4, 'Year': 2022, 'Hour': 12, 'Minute': 16, 'Second': 4, 'Is_laundering': 1}\n",
      "Predicted 'Is_laundering': 1\n",
      "Received message: {'Day': 11, 'Month': 8, 'Year': 2022, 'Hour': 9, 'Minute': 41, 'Second': 5, 'Is_laundering': 1}\n",
      "Predicted 'Is_laundering': 1\n",
      "Received message: {'Day': 18, 'Month': 5, 'Year': 2022, 'Hour': 10, 'Minute': 48, 'Second': 28, 'Is_laundering': 1}\n",
      "Predicted 'Is_laundering': 1\n",
      "Received message: {'Day': 1, 'Month': 10, 'Year': 2022, 'Hour': 0, 'Minute': 25, 'Second': 34, 'Is_laundering': 1}\n",
      "Predicted 'Is_laundering': 0\n",
      "Received message: {'Day': 16, 'Month': 1, 'Year': 2022, 'Hour': 7, 'Minute': 6, 'Second': 51, 'Is_laundering': 0}\n",
      "Predicted 'Is_laundering': 1\n",
      "Received message: {'Day': 1, 'Month': 11, 'Year': 2022, 'Hour': 3, 'Minute': 8, 'Second': 4, 'Is_laundering': 0}\n",
      "Predicted 'Is_laundering': 0\n",
      "Received message: {'Day': 3, 'Month': 5, 'Year': 2022, 'Hour': 10, 'Minute': 23, 'Second': 35, 'Is_laundering': 0}\n",
      "Predicted 'Is_laundering': 1\n",
      "Received message: {'Day': 10, 'Month': 11, 'Year': 2022, 'Hour': 18, 'Minute': 53, 'Second': 9, 'Is_laundering': 0}\n",
      "Predicted 'Is_laundering': 0\n",
      "Received message: {'Day': 22, 'Month': 11, 'Year': 2022, 'Hour': 7, 'Minute': 51, 'Second': 15, 'Is_laundering': 0}\n",
      "Predicted 'Is_laundering': 0\n",
      "Received message: {'Day': 6, 'Month': 2, 'Year': 2022, 'Hour': 10, 'Minute': 30, 'Second': 55, 'Is_laundering': 0}\n",
      "Predicted 'Is_laundering': 1\n"
     ]
    }
   ],
   "source": [
    "from confluent_kafka import Consumer\n",
    "import json\n",
    "import pickle\n",
    "import pandas as pd\n",
    "\n",
    "# Load the pre-trained model (assuming you saved it as a pickle file)\n",
    "with open(r'C:\\Users\\Arabtech\\Downloads\\pkl\\streamdata.pkl', 'rb') as file:\n",
    "    model = pickle.load(file)\n",
    "\n",
    "# Define the topic and consumer group\n",
    "topic = 'moneylaundery4'  # Name of the Kafka topic to consume messages from\n",
    "consumer_group = 'Myconsumer'  # Name of the consumer group\n",
    "\n",
    "# Configure the Kafka consumer with necessary parameters\n",
    "conf = {\n",
    "    'bootstrap.servers': 'localhost:9092',  # Address of the Kafka broker\n",
    "    'group.id': consumer_group,  # Identifier for the consumer group\n",
    "    'auto.offset.reset': 'earliest',  # Start consuming messages from the beginning of the topic\n",
    "}\n",
    "\n",
    "# Create an instance of the Kafka consumer\n",
    "consumer = Consumer(conf)\n",
    "\n",
    "# Subscribe to the specified Kafka topic\n",
    "consumer.subscribe([topic])\n",
    "\n",
    "# Define the feature columns used for prediction\n",
    "feature_columns = ['Day', 'Month', 'Year', 'Hour', 'Minute', 'Second']\n",
    "\n",
    "# Begin consuming messages from the Kafka topic\n",
    "print(f\"Consumer Group '{consumer_group}' is now active and consuming messages from topic '{topic}'...\")\n",
    "\n",
    "while True:\n",
    "    # Poll the Kafka topic for a message, waiting up to 1 second\n",
    "    msg = consumer.poll(timeout=1.0)\n",
    "\n",
    "    # Skip to the next iteration if no message is received within the timeout period\n",
    "    if msg is None:\n",
    "        continue\n",
    "\n",
    "    # Decode and process the received message (assuming JSON format)\n",
    "    try:\n",
    "        message_value = json.loads(msg.value().decode('utf-8'))\n",
    "        print(f\"Received message: {message_value}\")\n",
    "        \n",
    "        # Convert the received message to a DataFrame\n",
    "        data_df = pd.DataFrame([message_value])\n",
    "        \n",
    "        # Ensure the message contains all required features\n",
    "        if all(col in data_df.columns for col in feature_columns):\n",
    "            X_new = data_df[feature_columns]\n",
    "            \n",
    "            # Predict using the pre-trained model\n",
    "            prediction = model.predict(X_new)\n",
    "            \n",
    "            # Print the prediction\n",
    "            print(f\"Predicted 'Is_laundering': {prediction[0]}\")\n",
    "        else:\n",
    "            print(\"Error: Incoming data does not contain the required feature columns.\")\n",
    "    except Exception as e:\n",
    "        print(f\"Error processing message: {e}\")\n"
   ]
  },
  {
   "cell_type": "code",
   "execution_count": null,
   "metadata": {},
   "outputs": [],
   "source": []
  }
 ],
 "metadata": {
  "kernelspec": {
   "display_name": "Python 3 (ipykernel)",
   "language": "python",
   "name": "python3"
  },
  "language_info": {
   "codemirror_mode": {
    "name": "ipython",
    "version": 3
   },
   "file_extension": ".py",
   "mimetype": "text/x-python",
   "name": "python",
   "nbconvert_exporter": "python",
   "pygments_lexer": "ipython3",
   "version": "3.11.3"
  }
 },
 "nbformat": 4,
 "nbformat_minor": 2
}
